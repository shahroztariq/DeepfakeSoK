{
 "cells": [
  {
   "cell_type": "code",
   "execution_count": 1,
   "id": "067cf5a5-c051-479a-9ff5-23d8e0440916",
   "metadata": {},
   "outputs": [
    {
     "name": "stdout",
     "output_type": "stream",
     "text": [
      "loaded\n",
      "yolo\n",
      "WARNING:tensorflow:From /tmp/ipykernel_30139/1886839122.py:36: The name tf.ConfigProto is deprecated. Please use tf.compat.v1.ConfigProto instead.\n",
      "\n",
      "WARNING:tensorflow:From /tmp/ipykernel_30139/1886839122.py:38: The name tf.Session is deprecated. Please use tf.compat.v1.Session instead.\n",
      "\n"
     ]
    },
    {
     "name": "stderr",
     "output_type": "stream",
     "text": [
      "2023-08-21 14:23:52.305619: I tensorflow/core/platform/cpu_feature_guard.cc:142] Your CPU supports instructions that this TensorFlow binary was not compiled to use: AVX2 AVX512F FMA\n",
      "2023-08-21 14:23:52.463016: I tensorflow/core/platform/profile_utils/cpu_utils.cc:94] CPU Frequency: 2100000000 Hz\n",
      "2023-08-21 14:23:52.468389: I tensorflow/compiler/xla/service/service.cc:168] XLA service 0x5876c10 initialized for platform Host (this does not guarantee that XLA will be used). Devices:\n",
      "2023-08-21 14:23:52.468680: I tensorflow/compiler/xla/service/service.cc:176]   StreamExecutor device (0): Host, Default Version\n",
      "2023-08-21 14:23:52.512483: I tensorflow/stream_executor/platform/default/dso_loader.cc:44] Successfully opened dynamic library libcuda.so.1\n"
     ]
    },
    {
     "name": "stdout",
     "output_type": "stream",
     "text": [
      "WARNING:tensorflow:From /tmp/ipykernel_30139/1886839122.py:39: The name tf.keras.backend.set_session is deprecated. Please use tf.compat.v1.keras.backend.set_session instead.\n",
      "\n",
      "WARNING:tensorflow:From /tmp/ipykernel_30139/1886839122.py:40: The name tf.global_variables_initializer is deprecated. Please use tf.compat.v1.global_variables_initializer instead.\n",
      "\n"
     ]
    },
    {
     "name": "stderr",
     "output_type": "stream",
     "text": [
      "2023-08-21 14:23:52.832086: I tensorflow/compiler/xla/service/service.cc:168] XLA service 0x586eaf0 initialized for platform CUDA (this does not guarantee that XLA will be used). Devices:\n",
      "2023-08-21 14:23:52.832179: I tensorflow/compiler/xla/service/service.cc:176]   StreamExecutor device (0): NVIDIA GeForce RTX 3090, Compute Capability 8.6\n",
      "2023-08-21 14:23:52.833795: I tensorflow/core/common_runtime/gpu/gpu_device.cc:1618] Found device 0 with properties: \n",
      "name: NVIDIA GeForce RTX 3090 major: 8 minor: 6 memoryClockRate(GHz): 1.695\n",
      "pciBusID: 0000:41:00.0\n",
      "2023-08-21 14:23:52.834510: W tensorflow/stream_executor/platform/default/dso_loader.cc:55] Could not load dynamic library 'libcudart.so.10.0'; dlerror: libcudart.so.10.0: cannot open shared object file: No such file or directory; LD_LIBRARY_PATH: /home/binh/anaconda3/envs/deepfacelab1/lib/python3.7/site-packages/cv2/../../lib64:\n",
      "2023-08-21 14:23:52.835047: W tensorflow/stream_executor/platform/default/dso_loader.cc:55] Could not load dynamic library 'libcublas.so.10.0'; dlerror: libcublas.so.10.0: cannot open shared object file: No such file or directory; LD_LIBRARY_PATH: /home/binh/anaconda3/envs/deepfacelab1/lib/python3.7/site-packages/cv2/../../lib64:\n",
      "2023-08-21 14:23:52.835547: W tensorflow/stream_executor/platform/default/dso_loader.cc:55] Could not load dynamic library 'libcufft.so.10.0'; dlerror: libcufft.so.10.0: cannot open shared object file: No such file or directory; LD_LIBRARY_PATH: /home/binh/anaconda3/envs/deepfacelab1/lib/python3.7/site-packages/cv2/../../lib64:\n",
      "2023-08-21 14:23:52.836041: W tensorflow/stream_executor/platform/default/dso_loader.cc:55] Could not load dynamic library 'libcurand.so.10.0'; dlerror: libcurand.so.10.0: cannot open shared object file: No such file or directory; LD_LIBRARY_PATH: /home/binh/anaconda3/envs/deepfacelab1/lib/python3.7/site-packages/cv2/../../lib64:\n",
      "2023-08-21 14:23:52.836524: W tensorflow/stream_executor/platform/default/dso_loader.cc:55] Could not load dynamic library 'libcusolver.so.10.0'; dlerror: libcusolver.so.10.0: cannot open shared object file: No such file or directory; LD_LIBRARY_PATH: /home/binh/anaconda3/envs/deepfacelab1/lib/python3.7/site-packages/cv2/../../lib64:\n",
      "2023-08-21 14:23:52.837003: W tensorflow/stream_executor/platform/default/dso_loader.cc:55] Could not load dynamic library 'libcusparse.so.10.0'; dlerror: libcusparse.so.10.0: cannot open shared object file: No such file or directory; LD_LIBRARY_PATH: /home/binh/anaconda3/envs/deepfacelab1/lib/python3.7/site-packages/cv2/../../lib64:\n",
      "2023-08-21 14:23:52.904147: I tensorflow/stream_executor/platform/default/dso_loader.cc:44] Successfully opened dynamic library libcudnn.so.7\n",
      "2023-08-21 14:23:52.904260: W tensorflow/core/common_runtime/gpu/gpu_device.cc:1641] Cannot dlopen some GPU libraries. Please make sure the missing libraries mentioned above are installed properly if you would like to use GPU. Follow the guide at https://www.tensorflow.org/install/gpu for how to download and setup the required libraries for your platform.\n",
      "Skipping registering GPU devices...\n",
      "2023-08-21 14:23:52.904323: I tensorflow/core/common_runtime/gpu/gpu_device.cc:1159] Device interconnect StreamExecutor with strength 1 edge matrix:\n",
      "2023-08-21 14:23:52.904354: I tensorflow/core/common_runtime/gpu/gpu_device.cc:1165]      0 \n",
      "2023-08-21 14:23:52.904381: I tensorflow/core/common_runtime/gpu/gpu_device.cc:1178] 0:   N \n"
     ]
    }
   ],
   "source": [
    "import sys\n",
    "sys.path.append(\"../../DeepFakeVideoDetection/src/\")\n",
    "\n",
    "from tensorflow.python.keras.backend import clear_session\n",
    "from tensorflow.python.keras.callbacks import ModelCheckpoint, CSVLogger\n",
    "from tensorflow.python.keras.utils.layer_utils import print_summary\n",
    "from tensorflow.python.keras.optimizers import Adam\n",
    "from tensorflow.python.keras.models import load_model\n",
    "import numpy as np\n",
    "# from resnet_convlstm import ResNet\n",
    "from Utility_functions import FreezeBatchNormalization\n",
    "from datetime import datetime as dt\n",
    "from DFVDSequence import DFVDSequence\n",
    "import matplotlib.pyplot as plt\n",
    "print(\"yolo\")\n",
    "from sklearn.metrics import classification_report\n",
    "# import pandas as pd\n",
    "# import shutil\n",
    "from tensorflow.python.keras import layers\n",
    "# from src.xception_convlstm import Xception\n",
    "# print(cv2.__version__)\n",
    "# import random\n",
    "# random.seed(32)\n",
    "\n",
    "dataset_dir='DeepFakeDatasetReal'\n",
    "# from src.cl_basic import cl_basic\n",
    "import ipykernel\n",
    "import os\n",
    "from sklearn.preprocessing import MinMaxScaler\n",
    "import tensorflow as tf\n",
    "from tensorflow.keras import backend as K\n",
    "os.environ[\"CUDA_DEVICE_ORDER\"]=\"PCI_BUS_ID\";\n",
    " \n",
    "# Choose GPU NUMBERS [0, 1, 2, 3]\n",
    "os.environ[\"CUDA_VISIBLE_DEVICES\"]=\"1\"\n",
    "config = tf.ConfigProto()\n",
    "config.gpu_options.allow_growth = True\n",
    "sess = tf.Session(config=config)\n",
    "K.set_session(sess)\n",
    "sess.run(tf.global_variables_initializer())"
   ]
  },
  {
   "cell_type": "code",
   "execution_count": 2,
   "id": "3d1b1fb6-550c-4869-830d-4520b40513c1",
   "metadata": {},
   "outputs": [
    {
     "data": {
      "text/plain": [
       "'1.15.0'"
      ]
     },
     "execution_count": 2,
     "metadata": {},
     "output_type": "execute_result"
    }
   ],
   "source": [
    "tf.__version__"
   ]
  },
  {
   "cell_type": "code",
   "execution_count": 18,
   "id": "92aa9de7-3007-493b-8d1d-4ea9e4ad8c7b",
   "metadata": {},
   "outputs": [],
   "source": [
    "ALL_DATASET = [\"DeepFaceLab\", \"Dfaker\", \"Faceswap\", \"FOM_Animation\", \"FOM_Faceswap\", \"FSGAN\", \"LightWeight\", \"fake\"]\n",
    "import natsort\n",
    "import random\n",
    "from tqdm import tqdm\n",
    "import glob\n",
    "import os\n",
    "from tensorflow.python.keras.utils import to_categorical\n",
    "from tensorflow.python.keras import layers\n",
    "# from sklearn.utils import class_weight\n",
    "from sklearn.utils.class_weight import compute_class_weight\n",
    "import numpy as np\n",
    "random.seed(32)\n",
    "# import pandas as pd\n",
    "from tensorflow.python.keras.callbacks import Callback\n",
    "\n",
    "def create_sequence(dirs, fpvpb, no_frames):\n",
    "    random.seed(35)\n",
    "    count_real = 0\n",
    "    count_fake = 0\n",
    "    folders=[]\n",
    "    for directory in dirs:\n",
    "        print(\"Including \", directory)\n",
    "        folders += [i for i in sorted(glob.glob(os.path.join(directory, '*'))) if os.path.isdir(i)]\n",
    "    random.shuffle(folders)\n",
    "    total_folders = len(folders)\n",
    "    X = {}\n",
    "    y = []\n",
    "    print('Total Video Folders Found (Real + Fake):', total_folders)\n",
    "    pre_folder = -1\n",
    "    i = 0\n",
    "    _downsampled = []\n",
    "\n",
    "    for (idx, folder) in tqdm(enumerate(folders)):\n",
    "        dir_name = os.path.dirname(folder)\n",
    "        folder_name = os.path.basename(dir_name)\n",
    "        # print(\"video: \", folder)\n",
    "        # _downsampled = [x for x in sorted(glob.glob(os.path.join(folder, \"*.png\")))][:no_frames]\n",
    "        _downsampled = [x for x in sorted([os.path.join(folder, u) for u in os.listdir(folder) if u .endswith(\".png\")])][:no_frames]\n",
    "\n",
    "        if folder_name == 'real':\n",
    "            # if pre_folder == 1:\n",
    "            #     continue\n",
    "            y.append(1)\n",
    "            count_real += len(_downsampled)\n",
    "            pre_folder = 1\n",
    "        elif folder_name in ALL_DATASET:\n",
    "            # if pre_folder == 0:\n",
    "            #     continue\n",
    "            y.append(0)\n",
    "            count_fake += len(_downsampled)\n",
    "            pre_folder = 0\n",
    "        else:\n",
    "            raise ValuesError(f\"Cannot found in {folder_name} our dataset\")\n",
    "\n",
    "        X[str(idx)] = _downsampled\n",
    "\n",
    "        \n",
    "    print('Real Frames:', count_real, 'Fake Frames:', count_fake)\n",
    "    labels = []\n",
    "    for i in range(0, count_real):\n",
    "        labels.append(1)\n",
    "    for i in range(0, count_fake):\n",
    "        labels.append(0)\n",
    "    y_ints = [v.argmax() for v in to_categorical(labels)]\n",
    "\n",
    "    class_weights = compute_class_weight(class_weight ='balanced', classes=np.unique(y_ints), y=y_ints)\n",
    "    print('Class Weights:', class_weights)\n",
    "    return X, y, class_weights"
   ]
  },
  {
   "cell_type": "code",
   "execution_count": 4,
   "id": "db8b0c35-14c2-4dab-85fa-8b748089595f",
   "metadata": {},
   "outputs": [],
   "source": [
    "\n",
    "from sklearn.metrics import roc_curve, auc\n",
    "from sklearn import metrics\n",
    "from tqdm import tqdm\n",
    "import numpy as np\n",
    "import pandas as pd\n",
    "\n",
    "def find_best_threshold(scores, labels):\n",
    "        fpr, tpr, thresholds = roc_curve(labels, scores)\n",
    "        roc_auc = auc(fpr, tpr)\n",
    "\n",
    "        best_acc = 0\n",
    "        best_thresh = None\n",
    "        for i, thresh in enumerate(thresholds):\n",
    "            # compute accuracy for this threshold\n",
    "            pred_labels = [1 if s >= thresh else 0 for s in scores]\n",
    "            acc = sum([1 if pred_labels[j] == labels[j] else 0 for j in range(len(labels))]) / len(labels)\n",
    "\n",
    "            if acc > best_acc:\n",
    "                best_acc = acc\n",
    "                best_thresh = thresh\n",
    "        return best_thresh, roc_auc\n",
    "\n",
    "\n",
    "def eval_state(probs, labels, thr):\n",
    "    predict = probs >= thr\n",
    "    labels = np.array(labels)\n",
    "    TN = np.sum((labels == 0) & (predict == False))\n",
    "    FN = np.sum((labels == 1) & (predict == False))\n",
    "    FP = np.sum((labels == 0) & (predict == True))\n",
    "    TP = np.sum((labels == 1) & (predict == True))\n",
    "    return TN, FN, FP, TP\n",
    "\n",
    "def evaluate(pretrained_model, data_iter):\n",
    "    # predictions = pretrained_model.predict_generator(data_iter, verbose=1)\n",
    "    # prob_list = predictions[:, 1]\n",
    "    # label_list = data_iter.classes\n",
    "    \n",
    "    shape_pred_count = 0\n",
    "    shape_input_count = 0\n",
    "    prob_list = []\n",
    "    label_list = []\n",
    "    for batch_x, batch_y in tqdm(data_iter):\n",
    "        # Process the batch inputs and labels\n",
    "        # ...\n",
    "        predictions = pretrained_model.predict(batch_x)\n",
    "        shape_pred_count += len(predictions)\n",
    "        shape_input_count += len(batch_y)\n",
    "        \n",
    "        prob_list.append(predictions)\n",
    "        label_list.append(batch_y)\n",
    "        \n",
    "    prob_list = np.concatenate(prob_list)[:, 1]\n",
    "    label_list = np.concatenate(label_list)[:, 1].astype(np.int32)\n",
    "\n",
    "    print(\"At threshold = 0.5\")\n",
    "    best_thresh = 0.5\n",
    "    TN, FN, FP, TP = eval_state(probs=prob_list, labels=label_list, thr=best_thresh)\n",
    "    if (FN + TP == 0):\n",
    "        FRR = 1.0\n",
    "        FAR = FP / float(FP + TN)\n",
    "        TPR = 0\n",
    "    elif(FP + TN == 0):\n",
    "        FAR = 1.0\n",
    "        FRR = FN / float(FN + TP)\n",
    "        TPR = TP / float(TP + FN)\n",
    "    else:\n",
    "        FAR = FP / float(FP + TN)\n",
    "        FRR = FN / float(FN + TP)\n",
    "        TPR = TP / float(TP + FN)\n",
    "\n",
    "    ACC = (TN + TP) / (TN + FN + FP + TP)\n",
    "    HTER = (FAR + FRR) / 2.0\n",
    "    print(f\"HTER: {HTER*100:.2f}\")\n",
    "    print(f\"FAR: {FAR*100:.2f}\")\n",
    "    print(f\"TPR: {TPR*100:.2f}\")\n",
    "\n",
    "\n",
    "\n",
    "    np.save('pred_tmp.npy', prob_list)\n",
    "    np.save('lb_tmp.npy', label_list)\n",
    "    print(\"Max values\", len(prob_list), np.max(prob_list), np.min(prob_list), np.max(label_list), np.min(label_list))\n",
    "\n",
    "\n",
    "    best_thresh, AUC = find_best_threshold(scores=prob_list, labels=label_list)\n",
    "    print(f\"At best threshold = {best_thresh:.4f}\")\n",
    "    TN, FN, FP, TP = eval_state(probs=prob_list, labels=label_list, thr=best_thresh)\n",
    "    if (FN + TP == 0):\n",
    "        FRR = 1.0\n",
    "        FAR = FP / float(FP + TN)\n",
    "        TPR = 0\n",
    "    elif(FP + TN == 0):\n",
    "        FAR = 1.0\n",
    "        FRR = FN / float(FN + TP)\n",
    "        TPR = TP / float(TP + FN)\n",
    "    else:\n",
    "        FAR = FP / float(FP + TN)\n",
    "        FRR = FN / float(FN + TP)\n",
    "        TPR = TP / float(TP + FN)\n",
    "\n",
    "\n",
    "    HTER = (FAR + FRR) / 2.0\n",
    "    ACC_best = (TN + TP) / (TN + FN + FP + TP)\n",
    "    print(f\"HTER: {HTER*100:.2f}\")\n",
    "    print(f\"FAR: {FAR*100:.2f}\")\n",
    "    print(f\"TPR: {TPR*100:.2f}\")\n",
    "    print(f\"AUC: {AUC*100:.2f}\")\n",
    "    return (ACC*100, ACC_best*100, AUC*100)"
   ]
  },
  {
   "cell_type": "code",
   "execution_count": 5,
   "id": "7a23914e-04bf-46fc-8044-e08eb3b02dfb",
   "metadata": {
    "collapsed": true,
    "jupyter": {
     "outputs_hidden": true
    },
    "tags": []
   },
   "outputs": [
    {
     "name": "stdout",
     "output_type": "stream",
     "text": [
      "WARNING:tensorflow:From /home/binh/anaconda3/envs/deepfacelab1/lib/python3.7/site-packages/tensorflow_core/python/ops/init_ops.py:97: calling VarianceScaling.__init__ (from tensorflow.python.ops.init_ops) with dtype is deprecated and will be removed in a future version.\n",
      "Instructions for updating:\n",
      "Call initializer instance with the dtype argument instead of passing it to the constructor\n",
      "WARNING:tensorflow:From /home/binh/anaconda3/envs/deepfacelab1/lib/python3.7/site-packages/tensorflow_core/python/ops/init_ops.py:97: calling Orthogonal.__init__ (from tensorflow.python.ops.init_ops) with dtype is deprecated and will be removed in a future version.\n",
      "Instructions for updating:\n",
      "Call initializer instance with the dtype argument instead of passing it to the constructor\n",
      "WARNING:tensorflow:From /home/binh/anaconda3/envs/deepfacelab1/lib/python3.7/site-packages/tensorflow_core/python/ops/init_ops.py:97: calling Zeros.__init__ (from tensorflow.python.ops.init_ops) with dtype is deprecated and will be removed in a future version.\n",
      "Instructions for updating:\n",
      "Call initializer instance with the dtype argument instead of passing it to the constructor\n",
      "WARNING:tensorflow:From /home/binh/anaconda3/envs/deepfacelab1/lib/python3.7/site-packages/tensorflow_core/python/ops/init_ops.py:97: calling Ones.__init__ (from tensorflow.python.ops.init_ops) with dtype is deprecated and will be removed in a future version.\n",
      "Instructions for updating:\n",
      "Call initializer instance with the dtype argument instead of passing it to the constructor\n",
      "WARNING:tensorflow:From /home/binh/anaconda3/envs/deepfacelab1/lib/python3.7/site-packages/tensorflow_core/python/ops/resource_variable_ops.py:1630: calling BaseResourceVariable.__init__ (from tensorflow.python.ops.resource_variable_ops) with constraint is deprecated and will be removed in a future version.\n",
      "Instructions for updating:\n",
      "If using Keras pass *_constraint arguments to layers.\n",
      "WARNING:tensorflow:From /home/binh/anaconda3/envs/deepfacelab1/lib/python3.7/site-packages/tensorflow_core/python/ops/math_grad.py:1424: where (from tensorflow.python.ops.array_ops) is deprecated and will be removed in a future version.\n",
      "Instructions for updating:\n",
      "Use tf.where in 2.0, which has the same broadcast rule as np.where\n",
      "Model: \"model\"\n",
      "______________________________________________________________________________________________________________________________________________________\n",
      "Layer (type)                                     Output Shape                     Param #           Connected to                                      \n",
      "======================================================================================================================================================\n",
      "input_1 (InputLayer)                             [(None, 5, 128, 128, 3)]         0                                                                   \n",
      "______________________________________________________________________________________________________________________________________________________\n",
      "conv_lst_m2d (ConvLSTM2D)                        (None, 5, 64, 64, 64)            840704            input_1[0][0]                                     \n",
      "______________________________________________________________________________________________________________________________________________________\n",
      "batch_normalization_v1 (BatchNormalization)      (None, 5, 64, 64, 64)            256               conv_lst_m2d[0][0]                                \n",
      "______________________________________________________________________________________________________________________________________________________\n",
      "activation (Activation)                          (None, 5, 64, 64, 64)            0                 batch_normalization_v1[0][0]                      \n",
      "______________________________________________________________________________________________________________________________________________________\n",
      "max_pooling3d (MaxPooling3D)                     (None, 5, 22, 22, 64)            0                 activation[0][0]                                  \n",
      "______________________________________________________________________________________________________________________________________________________\n",
      "res0a_branch2a (ConvLSTM2D)                      (None, 5, 11, 11, 64)            295168            max_pooling3d[0][0]                               \n",
      "______________________________________________________________________________________________________________________________________________________\n",
      "dropout (Dropout)                                (None, 5, 11, 11, 64)            0                 res0a_branch2a[0][0]                              \n",
      "______________________________________________________________________________________________________________________________________________________\n",
      "batch_normalization_v1_1 (BatchNormalization)    (None, 5, 11, 11, 64)            256               dropout[0][0]                                     \n",
      "______________________________________________________________________________________________________________________________________________________\n",
      "activation_1 (Activation)                        (None, 5, 11, 11, 64)            0                 batch_normalization_v1_1[0][0]                    \n",
      "______________________________________________________________________________________________________________________________________________________\n",
      "conv_lst_m2d_1 (ConvLSTM2D)                      (None, 5, 11, 11, 64)            295168            activation_1[0][0]                                \n",
      "______________________________________________________________________________________________________________________________________________________\n",
      "dropout_1 (Dropout)                              (None, 5, 11, 11, 64)            0                 conv_lst_m2d_1[0][0]                              \n",
      "______________________________________________________________________________________________________________________________________________________\n",
      "batch_normalization_v1_2 (BatchNormalization)    (None, 5, 11, 11, 64)            256               dropout_1[0][0]                                   \n",
      "______________________________________________________________________________________________________________________________________________________\n",
      "conv_lst_m2d_3 (ConvLSTM2D)                      (None, 5, 11, 11, 256)           328704            max_pooling3d[0][0]                               \n",
      "______________________________________________________________________________________________________________________________________________________\n",
      "activation_2 (Activation)                        (None, 5, 11, 11, 64)            0                 batch_normalization_v1_2[0][0]                    \n",
      "______________________________________________________________________________________________________________________________________________________\n",
      "batch_normalization_v1_3 (BatchNormalization)    (None, 5, 11, 11, 256)           1024              conv_lst_m2d_3[0][0]                              \n",
      "______________________________________________________________________________________________________________________________________________________\n",
      "conv_lst_m2d_2 (ConvLSTM2D)                      (None, 5, 11, 11, 256)           328704            activation_2[0][0]                                \n",
      "______________________________________________________________________________________________________________________________________________________\n",
      "add (Add)                                        (None, 5, 11, 11, 256)           0                 batch_normalization_v1_3[0][0]                    \n",
      "                                                                                                    conv_lst_m2d_2[0][0]                              \n",
      "______________________________________________________________________________________________________________________________________________________\n",
      "batch_normalization_v1_4 (BatchNormalization)    (None, 5, 11, 11, 256)           1024              add[0][0]                                         \n",
      "______________________________________________________________________________________________________________________________________________________\n",
      "activation_3 (Activation)                        (None, 5, 11, 11, 256)           0                 batch_normalization_v1_4[0][0]                    \n",
      "______________________________________________________________________________________________________________________________________________________\n",
      "conv_lst_m2d_4 (ConvLSTM2D)                      (None, 5, 11, 11, 64)            82176             activation_3[0][0]                                \n",
      "______________________________________________________________________________________________________________________________________________________\n",
      "dropout_2 (Dropout)                              (None, 5, 11, 11, 64)            0                 conv_lst_m2d_4[0][0]                              \n",
      "______________________________________________________________________________________________________________________________________________________\n",
      "batch_normalization_v1_5 (BatchNormalization)    (None, 5, 11, 11, 64)            256               dropout_2[0][0]                                   \n",
      "______________________________________________________________________________________________________________________________________________________\n",
      "activation_4 (Activation)                        (None, 5, 11, 11, 64)            0                 batch_normalization_v1_5[0][0]                    \n",
      "______________________________________________________________________________________________________________________________________________________\n",
      "conv_lst_m2d_5 (ConvLSTM2D)                      (None, 5, 11, 11, 64)            295168            activation_4[0][0]                                \n",
      "______________________________________________________________________________________________________________________________________________________\n",
      "dropout_3 (Dropout)                              (None, 5, 11, 11, 64)            0                 conv_lst_m2d_5[0][0]                              \n",
      "______________________________________________________________________________________________________________________________________________________\n",
      "batch_normalization_v1_6 (BatchNormalization)    (None, 5, 11, 11, 64)            256               dropout_3[0][0]                                   \n",
      "______________________________________________________________________________________________________________________________________________________\n",
      "activation_5 (Activation)                        (None, 5, 11, 11, 64)            0                 batch_normalization_v1_6[0][0]                    \n",
      "______________________________________________________________________________________________________________________________________________________\n",
      "conv_lst_m2d_6 (ConvLSTM2D)                      (None, 5, 11, 11, 256)           328704            activation_5[0][0]                                \n",
      "______________________________________________________________________________________________________________________________________________________\n",
      "add_1 (Add)                                      (None, 5, 11, 11, 256)           0                 add[0][0]                                         \n",
      "                                                                                                    conv_lst_m2d_6[0][0]                              \n",
      "______________________________________________________________________________________________________________________________________________________\n",
      "batch_normalization_v1_7 (BatchNormalization)    (None, 5, 11, 11, 256)           1024              add_1[0][0]                                       \n",
      "______________________________________________________________________________________________________________________________________________________\n",
      "activation_6 (Activation)                        (None, 5, 11, 11, 256)           0                 batch_normalization_v1_7[0][0]                    \n",
      "______________________________________________________________________________________________________________________________________________________\n",
      "conv_lst_m2d_7 (ConvLSTM2D)                      (None, 5, 11, 11, 64)            82176             activation_6[0][0]                                \n",
      "______________________________________________________________________________________________________________________________________________________\n",
      "dropout_4 (Dropout)                              (None, 5, 11, 11, 64)            0                 conv_lst_m2d_7[0][0]                              \n",
      "______________________________________________________________________________________________________________________________________________________\n",
      "batch_normalization_v1_8 (BatchNormalization)    (None, 5, 11, 11, 64)            256               dropout_4[0][0]                                   \n",
      "______________________________________________________________________________________________________________________________________________________\n",
      "activation_7 (Activation)                        (None, 5, 11, 11, 64)            0                 batch_normalization_v1_8[0][0]                    \n",
      "______________________________________________________________________________________________________________________________________________________\n",
      "conv_lst_m2d_8 (ConvLSTM2D)                      (None, 5, 11, 11, 64)            295168            activation_7[0][0]                                \n",
      "______________________________________________________________________________________________________________________________________________________\n",
      "dropout_5 (Dropout)                              (None, 5, 11, 11, 64)            0                 conv_lst_m2d_8[0][0]                              \n",
      "______________________________________________________________________________________________________________________________________________________\n",
      "batch_normalization_v1_9 (BatchNormalization)    (None, 5, 11, 11, 64)            256               dropout_5[0][0]                                   \n",
      "______________________________________________________________________________________________________________________________________________________\n",
      "activation_8 (Activation)                        (None, 5, 11, 11, 64)            0                 batch_normalization_v1_9[0][0]                    \n",
      "______________________________________________________________________________________________________________________________________________________\n",
      "conv_lst_m2d_9 (ConvLSTM2D)                      (None, 5, 11, 11, 256)           328704            activation_8[0][0]                                \n",
      "______________________________________________________________________________________________________________________________________________________\n",
      "add_2 (Add)                                      (None, 5, 11, 11, 256)           0                 add_1[0][0]                                       \n",
      "                                                                                                    conv_lst_m2d_9[0][0]                              \n",
      "______________________________________________________________________________________________________________________________________________________\n",
      "batch_normalization_v1_10 (BatchNormalization)   (None, 5, 11, 11, 256)           1024              add_2[0][0]                                       \n",
      "______________________________________________________________________________________________________________________________________________________\n",
      "activation_9 (Activation)                        (None, 5, 11, 11, 256)           0                 batch_normalization_v1_10[0][0]                   \n",
      "______________________________________________________________________________________________________________________________________________________\n",
      "conv_lst_m2d_10 (ConvLSTM2D)                     (None, 5, 6, 6, 128)             197120            activation_9[0][0]                                \n",
      "______________________________________________________________________________________________________________________________________________________\n",
      "dropout_6 (Dropout)                              (None, 5, 6, 6, 128)             0                 conv_lst_m2d_10[0][0]                             \n",
      "______________________________________________________________________________________________________________________________________________________\n",
      "batch_normalization_v1_11 (BatchNormalization)   (None, 5, 6, 6, 128)             512               dropout_6[0][0]                                   \n",
      "______________________________________________________________________________________________________________________________________________________\n",
      "activation_10 (Activation)                       (None, 5, 6, 6, 128)             0                 batch_normalization_v1_11[0][0]                   \n",
      "______________________________________________________________________________________________________________________________________________________\n",
      "conv_lst_m2d_11 (ConvLSTM2D)                     (None, 5, 6, 6, 128)             1180160           activation_10[0][0]                               \n",
      "______________________________________________________________________________________________________________________________________________________\n",
      "dropout_7 (Dropout)                              (None, 5, 6, 6, 128)             0                 conv_lst_m2d_11[0][0]                             \n",
      "______________________________________________________________________________________________________________________________________________________\n",
      "batch_normalization_v1_12 (BatchNormalization)   (None, 5, 6, 6, 128)             512               dropout_7[0][0]                                   \n",
      "______________________________________________________________________________________________________________________________________________________\n",
      "conv_lst_m2d_13 (ConvLSTM2D)                     (None, 5, 6, 6, 512)             1574912           add_2[0][0]                                       \n",
      "______________________________________________________________________________________________________________________________________________________\n",
      "activation_11 (Activation)                       (None, 5, 6, 6, 128)             0                 batch_normalization_v1_12[0][0]                   \n",
      "______________________________________________________________________________________________________________________________________________________\n",
      "batch_normalization_v1_13 (BatchNormalization)   (None, 5, 6, 6, 512)             2048              conv_lst_m2d_13[0][0]                             \n",
      "______________________________________________________________________________________________________________________________________________________\n",
      "conv_lst_m2d_12 (ConvLSTM2D)                     (None, 5, 6, 6, 512)             1312768           activation_11[0][0]                               \n",
      "______________________________________________________________________________________________________________________________________________________\n",
      "add_3 (Add)                                      (None, 5, 6, 6, 512)             0                 batch_normalization_v1_13[0][0]                   \n",
      "                                                                                                    conv_lst_m2d_12[0][0]                             \n",
      "______________________________________________________________________________________________________________________________________________________\n",
      "batch_normalization_v1_14 (BatchNormalization)   (None, 5, 6, 6, 512)             2048              add_3[0][0]                                       \n",
      "______________________________________________________________________________________________________________________________________________________\n",
      "activation_12 (Activation)                       (None, 5, 6, 6, 512)             0                 batch_normalization_v1_14[0][0]                   \n",
      "______________________________________________________________________________________________________________________________________________________\n",
      "conv_lst_m2d_14 (ConvLSTM2D)                     (None, 5, 6, 6, 128)             328192            activation_12[0][0]                               \n",
      "______________________________________________________________________________________________________________________________________________________\n",
      "dropout_8 (Dropout)                              (None, 5, 6, 6, 128)             0                 conv_lst_m2d_14[0][0]                             \n",
      "______________________________________________________________________________________________________________________________________________________\n",
      "batch_normalization_v1_15 (BatchNormalization)   (None, 5, 6, 6, 128)             512               dropout_8[0][0]                                   \n",
      "______________________________________________________________________________________________________________________________________________________\n",
      "activation_13 (Activation)                       (None, 5, 6, 6, 128)             0                 batch_normalization_v1_15[0][0]                   \n",
      "______________________________________________________________________________________________________________________________________________________\n",
      "conv_lst_m2d_15 (ConvLSTM2D)                     (None, 5, 6, 6, 128)             1180160           activation_13[0][0]                               \n",
      "______________________________________________________________________________________________________________________________________________________\n",
      "dropout_9 (Dropout)                              (None, 5, 6, 6, 128)             0                 conv_lst_m2d_15[0][0]                             \n",
      "______________________________________________________________________________________________________________________________________________________\n",
      "batch_normalization_v1_16 (BatchNormalization)   (None, 5, 6, 6, 128)             512               dropout_9[0][0]                                   \n",
      "______________________________________________________________________________________________________________________________________________________\n",
      "activation_14 (Activation)                       (None, 5, 6, 6, 128)             0                 batch_normalization_v1_16[0][0]                   \n",
      "______________________________________________________________________________________________________________________________________________________\n",
      "conv_lst_m2d_16 (ConvLSTM2D)                     (None, 5, 6, 6, 512)             1312768           activation_14[0][0]                               \n",
      "______________________________________________________________________________________________________________________________________________________\n",
      "add_4 (Add)                                      (None, 5, 6, 6, 512)             0                 add_3[0][0]                                       \n",
      "                                                                                                    conv_lst_m2d_16[0][0]                             \n",
      "______________________________________________________________________________________________________________________________________________________\n",
      "batch_normalization_v1_17 (BatchNormalization)   (None, 5, 6, 6, 512)             2048              add_4[0][0]                                       \n",
      "______________________________________________________________________________________________________________________________________________________\n",
      "activation_15 (Activation)                       (None, 5, 6, 6, 512)             0                 batch_normalization_v1_17[0][0]                   \n",
      "______________________________________________________________________________________________________________________________________________________\n",
      "conv_lst_m2d_17 (ConvLSTM2D)                     (None, 5, 6, 6, 128)             328192            activation_15[0][0]                               \n",
      "______________________________________________________________________________________________________________________________________________________\n",
      "dropout_10 (Dropout)                             (None, 5, 6, 6, 128)             0                 conv_lst_m2d_17[0][0]                             \n",
      "______________________________________________________________________________________________________________________________________________________\n",
      "batch_normalization_v1_18 (BatchNormalization)   (None, 5, 6, 6, 128)             512               dropout_10[0][0]                                  \n",
      "______________________________________________________________________________________________________________________________________________________\n",
      "activation_16 (Activation)                       (None, 5, 6, 6, 128)             0                 batch_normalization_v1_18[0][0]                   \n",
      "______________________________________________________________________________________________________________________________________________________\n",
      "conv_lst_m2d_18 (ConvLSTM2D)                     (None, 5, 6, 6, 128)             1180160           activation_16[0][0]                               \n",
      "______________________________________________________________________________________________________________________________________________________\n",
      "dropout_11 (Dropout)                             (None, 5, 6, 6, 128)             0                 conv_lst_m2d_18[0][0]                             \n",
      "______________________________________________________________________________________________________________________________________________________\n",
      "batch_normalization_v1_19 (BatchNormalization)   (None, 5, 6, 6, 128)             512               dropout_11[0][0]                                  \n",
      "______________________________________________________________________________________________________________________________________________________\n",
      "activation_17 (Activation)                       (None, 5, 6, 6, 128)             0                 batch_normalization_v1_19[0][0]                   \n",
      "______________________________________________________________________________________________________________________________________________________\n",
      "conv_lst_m2d_19 (ConvLSTM2D)                     (None, 5, 6, 6, 512)             1312768           activation_17[0][0]                               \n",
      "______________________________________________________________________________________________________________________________________________________\n",
      "add_5 (Add)                                      (None, 5, 6, 6, 512)             0                 add_4[0][0]                                       \n",
      "                                                                                                    conv_lst_m2d_19[0][0]                             \n",
      "______________________________________________________________________________________________________________________________________________________\n",
      "batch_normalization_v1_20 (BatchNormalization)   (None, 5, 6, 6, 512)             2048              add_5[0][0]                                       \n",
      "______________________________________________________________________________________________________________________________________________________\n",
      "activation_18 (Activation)                       (None, 5, 6, 6, 512)             0                 batch_normalization_v1_20[0][0]                   \n",
      "______________________________________________________________________________________________________________________________________________________\n",
      "conv_lst_m2d_20 (ConvLSTM2D)                     (None, 5, 6, 6, 128)             328192            activation_18[0][0]                               \n",
      "______________________________________________________________________________________________________________________________________________________\n",
      "dropout_12 (Dropout)                             (None, 5, 6, 6, 128)             0                 conv_lst_m2d_20[0][0]                             \n",
      "______________________________________________________________________________________________________________________________________________________\n",
      "batch_normalization_v1_21 (BatchNormalization)   (None, 5, 6, 6, 128)             512               dropout_12[0][0]                                  \n",
      "______________________________________________________________________________________________________________________________________________________\n",
      "activation_19 (Activation)                       (None, 5, 6, 6, 128)             0                 batch_normalization_v1_21[0][0]                   \n",
      "______________________________________________________________________________________________________________________________________________________\n",
      "conv_lst_m2d_21 (ConvLSTM2D)                     (None, 5, 6, 6, 128)             1180160           activation_19[0][0]                               \n",
      "______________________________________________________________________________________________________________________________________________________\n",
      "dropout_13 (Dropout)                             (None, 5, 6, 6, 128)             0                 conv_lst_m2d_21[0][0]                             \n",
      "______________________________________________________________________________________________________________________________________________________\n",
      "batch_normalization_v1_22 (BatchNormalization)   (None, 5, 6, 6, 128)             512               dropout_13[0][0]                                  \n",
      "______________________________________________________________________________________________________________________________________________________\n",
      "activation_20 (Activation)                       (None, 5, 6, 6, 128)             0                 batch_normalization_v1_22[0][0]                   \n",
      "______________________________________________________________________________________________________________________________________________________\n",
      "conv_lst_m2d_22 (ConvLSTM2D)                     (None, 5, 6, 6, 512)             1312768           activation_20[0][0]                               \n",
      "______________________________________________________________________________________________________________________________________________________\n",
      "add_6 (Add)                                      (None, 5, 6, 6, 512)             0                 add_5[0][0]                                       \n",
      "                                                                                                    conv_lst_m2d_22[0][0]                             \n",
      "______________________________________________________________________________________________________________________________________________________\n",
      "batch_normalization_v1_23 (BatchNormalization)   (None, 5, 6, 6, 512)             2048              add_6[0][0]                                       \n",
      "______________________________________________________________________________________________________________________________________________________\n",
      "activation_21 (Activation)                       (None, 5, 6, 6, 512)             0                 batch_normalization_v1_23[0][0]                   \n",
      "______________________________________________________________________________________________________________________________________________________\n",
      "conv_lst_m2d_23 (ConvLSTM2D)                     (None, 5, 3, 3, 256)             787456            activation_21[0][0]                               \n",
      "______________________________________________________________________________________________________________________________________________________\n",
      "dropout_14 (Dropout)                             (None, 5, 3, 3, 256)             0                 conv_lst_m2d_23[0][0]                             \n",
      "______________________________________________________________________________________________________________________________________________________\n",
      "batch_normalization_v1_24 (BatchNormalization)   (None, 5, 3, 3, 256)             1024              dropout_14[0][0]                                  \n",
      "______________________________________________________________________________________________________________________________________________________\n",
      "activation_22 (Activation)                       (None, 5, 3, 3, 256)             0                 batch_normalization_v1_24[0][0]                   \n",
      "______________________________________________________________________________________________________________________________________________________\n",
      "conv_lst_m2d_24 (ConvLSTM2D)                     (None, 5, 3, 3, 256)             4719616           activation_22[0][0]                               \n",
      "______________________________________________________________________________________________________________________________________________________\n",
      "dropout_15 (Dropout)                             (None, 5, 3, 3, 256)             0                 conv_lst_m2d_24[0][0]                             \n",
      "______________________________________________________________________________________________________________________________________________________\n",
      "batch_normalization_v1_25 (BatchNormalization)   (None, 5, 3, 3, 256)             1024              dropout_15[0][0]                                  \n",
      "______________________________________________________________________________________________________________________________________________________\n",
      "conv_lst_m2d_26 (ConvLSTM2D)                     (None, 5, 3, 3, 1024)            6295552           add_6[0][0]                                       \n",
      "______________________________________________________________________________________________________________________________________________________\n",
      "activation_23 (Activation)                       (None, 5, 3, 3, 256)             0                 batch_normalization_v1_25[0][0]                   \n",
      "______________________________________________________________________________________________________________________________________________________\n",
      "batch_normalization_v1_26 (BatchNormalization)   (None, 5, 3, 3, 1024)            4096              conv_lst_m2d_26[0][0]                             \n",
      "______________________________________________________________________________________________________________________________________________________\n",
      "conv_lst_m2d_25 (ConvLSTM2D)                     (None, 5, 3, 3, 1024)            5246976           activation_23[0][0]                               \n",
      "______________________________________________________________________________________________________________________________________________________\n",
      "add_7 (Add)                                      (None, 5, 3, 3, 1024)            0                 batch_normalization_v1_26[0][0]                   \n",
      "                                                                                                    conv_lst_m2d_25[0][0]                             \n",
      "______________________________________________________________________________________________________________________________________________________\n",
      "batch_normalization_v1_27 (BatchNormalization)   (None, 5, 3, 3, 1024)            4096              add_7[0][0]                                       \n",
      "______________________________________________________________________________________________________________________________________________________\n",
      "activation_24 (Activation)                       (None, 5, 3, 3, 1024)            0                 batch_normalization_v1_27[0][0]                   \n",
      "______________________________________________________________________________________________________________________________________________________\n",
      "conv_lst_m2d_27 (ConvLSTM2D)                     (None, 5, 3, 3, 256)             1311744           activation_24[0][0]                               \n",
      "______________________________________________________________________________________________________________________________________________________\n",
      "dropout_16 (Dropout)                             (None, 5, 3, 3, 256)             0                 conv_lst_m2d_27[0][0]                             \n",
      "______________________________________________________________________________________________________________________________________________________\n",
      "batch_normalization_v1_28 (BatchNormalization)   (None, 5, 3, 3, 256)             1024              dropout_16[0][0]                                  \n",
      "______________________________________________________________________________________________________________________________________________________\n",
      "activation_25 (Activation)                       (None, 5, 3, 3, 256)             0                 batch_normalization_v1_28[0][0]                   \n",
      "______________________________________________________________________________________________________________________________________________________\n",
      "conv_lst_m2d_28 (ConvLSTM2D)                     (None, 5, 3, 3, 256)             4719616           activation_25[0][0]                               \n",
      "______________________________________________________________________________________________________________________________________________________\n",
      "dropout_17 (Dropout)                             (None, 5, 3, 3, 256)             0                 conv_lst_m2d_28[0][0]                             \n",
      "______________________________________________________________________________________________________________________________________________________\n",
      "batch_normalization_v1_29 (BatchNormalization)   (None, 5, 3, 3, 256)             1024              dropout_17[0][0]                                  \n",
      "______________________________________________________________________________________________________________________________________________________\n",
      "activation_26 (Activation)                       (None, 5, 3, 3, 256)             0                 batch_normalization_v1_29[0][0]                   \n",
      "______________________________________________________________________________________________________________________________________________________\n",
      "conv_lst_m2d_29 (ConvLSTM2D)                     (None, 5, 3, 3, 1024)            5246976           activation_26[0][0]                               \n",
      "______________________________________________________________________________________________________________________________________________________\n",
      "add_8 (Add)                                      (None, 5, 3, 3, 1024)            0                 add_7[0][0]                                       \n",
      "                                                                                                    conv_lst_m2d_29[0][0]                             \n",
      "______________________________________________________________________________________________________________________________________________________\n",
      "batch_normalization_v1_30 (BatchNormalization)   (None, 5, 3, 3, 1024)            4096              add_8[0][0]                                       \n",
      "______________________________________________________________________________________________________________________________________________________\n",
      "activation_27 (Activation)                       (None, 5, 3, 3, 1024)            0                 batch_normalization_v1_30[0][0]                   \n",
      "______________________________________________________________________________________________________________________________________________________\n",
      "conv_lst_m2d_30 (ConvLSTM2D)                     (None, 5, 3, 3, 256)             1311744           activation_27[0][0]                               \n",
      "______________________________________________________________________________________________________________________________________________________\n",
      "dropout_18 (Dropout)                             (None, 5, 3, 3, 256)             0                 conv_lst_m2d_30[0][0]                             \n",
      "______________________________________________________________________________________________________________________________________________________\n",
      "batch_normalization_v1_31 (BatchNormalization)   (None, 5, 3, 3, 256)             1024              dropout_18[0][0]                                  \n",
      "______________________________________________________________________________________________________________________________________________________\n",
      "activation_28 (Activation)                       (None, 5, 3, 3, 256)             0                 batch_normalization_v1_31[0][0]                   \n",
      "______________________________________________________________________________________________________________________________________________________\n",
      "conv_lst_m2d_31 (ConvLSTM2D)                     (None, 5, 3, 3, 256)             4719616           activation_28[0][0]                               \n",
      "______________________________________________________________________________________________________________________________________________________\n",
      "dropout_19 (Dropout)                             (None, 5, 3, 3, 256)             0                 conv_lst_m2d_31[0][0]                             \n",
      "______________________________________________________________________________________________________________________________________________________\n",
      "batch_normalization_v1_32 (BatchNormalization)   (None, 5, 3, 3, 256)             1024              dropout_19[0][0]                                  \n",
      "______________________________________________________________________________________________________________________________________________________\n",
      "activation_29 (Activation)                       (None, 5, 3, 3, 256)             0                 batch_normalization_v1_32[0][0]                   \n",
      "______________________________________________________________________________________________________________________________________________________\n",
      "conv_lst_m2d_32 (ConvLSTM2D)                     (None, 5, 3, 3, 1024)            5246976           activation_29[0][0]                               \n",
      "______________________________________________________________________________________________________________________________________________________\n",
      "add_9 (Add)                                      (None, 5, 3, 3, 1024)            0                 add_8[0][0]                                       \n",
      "                                                                                                    conv_lst_m2d_32[0][0]                             \n",
      "______________________________________________________________________________________________________________________________________________________\n",
      "batch_normalization_v1_33 (BatchNormalization)   (None, 5, 3, 3, 1024)            4096              add_9[0][0]                                       \n",
      "______________________________________________________________________________________________________________________________________________________\n",
      "activation_30 (Activation)                       (None, 5, 3, 3, 1024)            0                 batch_normalization_v1_33[0][0]                   \n",
      "______________________________________________________________________________________________________________________________________________________\n",
      "conv_lst_m2d_33 (ConvLSTM2D)                     (None, 5, 3, 3, 256)             1311744           activation_30[0][0]                               \n",
      "______________________________________________________________________________________________________________________________________________________\n",
      "dropout_20 (Dropout)                             (None, 5, 3, 3, 256)             0                 conv_lst_m2d_33[0][0]                             \n",
      "______________________________________________________________________________________________________________________________________________________\n",
      "batch_normalization_v1_34 (BatchNormalization)   (None, 5, 3, 3, 256)             1024              dropout_20[0][0]                                  \n",
      "______________________________________________________________________________________________________________________________________________________\n",
      "activation_31 (Activation)                       (None, 5, 3, 3, 256)             0                 batch_normalization_v1_34[0][0]                   \n",
      "______________________________________________________________________________________________________________________________________________________\n",
      "conv_lst_m2d_34 (ConvLSTM2D)                     (None, 5, 3, 3, 256)             4719616           activation_31[0][0]                               \n",
      "______________________________________________________________________________________________________________________________________________________\n",
      "dropout_21 (Dropout)                             (None, 5, 3, 3, 256)             0                 conv_lst_m2d_34[0][0]                             \n",
      "______________________________________________________________________________________________________________________________________________________\n",
      "batch_normalization_v1_35 (BatchNormalization)   (None, 5, 3, 3, 256)             1024              dropout_21[0][0]                                  \n",
      "______________________________________________________________________________________________________________________________________________________\n",
      "activation_32 (Activation)                       (None, 5, 3, 3, 256)             0                 batch_normalization_v1_35[0][0]                   \n",
      "______________________________________________________________________________________________________________________________________________________\n",
      "conv_lst_m2d_35 (ConvLSTM2D)                     (None, 5, 3, 3, 1024)            5246976           activation_32[0][0]                               \n",
      "______________________________________________________________________________________________________________________________________________________\n",
      "add_10 (Add)                                     (None, 5, 3, 3, 1024)            0                 add_9[0][0]                                       \n",
      "                                                                                                    conv_lst_m2d_35[0][0]                             \n",
      "______________________________________________________________________________________________________________________________________________________\n",
      "batch_normalization_v1_36 (BatchNormalization)   (None, 5, 3, 3, 1024)            4096              add_10[0][0]                                      \n",
      "______________________________________________________________________________________________________________________________________________________\n",
      "activation_33 (Activation)                       (None, 5, 3, 3, 1024)            0                 batch_normalization_v1_36[0][0]                   \n",
      "______________________________________________________________________________________________________________________________________________________\n",
      "conv_lst_m2d_36 (ConvLSTM2D)                     (None, 5, 3, 3, 256)             1311744           activation_33[0][0]                               \n",
      "______________________________________________________________________________________________________________________________________________________\n",
      "dropout_22 (Dropout)                             (None, 5, 3, 3, 256)             0                 conv_lst_m2d_36[0][0]                             \n",
      "______________________________________________________________________________________________________________________________________________________\n",
      "batch_normalization_v1_37 (BatchNormalization)   (None, 5, 3, 3, 256)             1024              dropout_22[0][0]                                  \n",
      "______________________________________________________________________________________________________________________________________________________\n",
      "activation_34 (Activation)                       (None, 5, 3, 3, 256)             0                 batch_normalization_v1_37[0][0]                   \n",
      "______________________________________________________________________________________________________________________________________________________\n",
      "conv_lst_m2d_37 (ConvLSTM2D)                     (None, 5, 3, 3, 256)             4719616           activation_34[0][0]                               \n",
      "______________________________________________________________________________________________________________________________________________________\n",
      "dropout_23 (Dropout)                             (None, 5, 3, 3, 256)             0                 conv_lst_m2d_37[0][0]                             \n",
      "______________________________________________________________________________________________________________________________________________________\n",
      "batch_normalization_v1_38 (BatchNormalization)   (None, 5, 3, 3, 256)             1024              dropout_23[0][0]                                  \n",
      "______________________________________________________________________________________________________________________________________________________\n",
      "activation_35 (Activation)                       (None, 5, 3, 3, 256)             0                 batch_normalization_v1_38[0][0]                   \n",
      "______________________________________________________________________________________________________________________________________________________\n",
      "conv_lst_m2d_38 (ConvLSTM2D)                     (None, 5, 3, 3, 1024)            5246976           activation_35[0][0]                               \n",
      "______________________________________________________________________________________________________________________________________________________\n",
      "add_11 (Add)                                     (None, 5, 3, 3, 1024)            0                 add_10[0][0]                                      \n",
      "                                                                                                    conv_lst_m2d_38[0][0]                             \n",
      "______________________________________________________________________________________________________________________________________________________\n",
      "batch_normalization_v1_39 (BatchNormalization)   (None, 5, 3, 3, 1024)            4096              add_11[0][0]                                      \n",
      "______________________________________________________________________________________________________________________________________________________\n",
      "activation_36 (Activation)                       (None, 5, 3, 3, 1024)            0                 batch_normalization_v1_39[0][0]                   \n",
      "______________________________________________________________________________________________________________________________________________________\n",
      "conv_lst_m2d_39 (ConvLSTM2D)                     (None, 5, 3, 3, 256)             1311744           activation_36[0][0]                               \n",
      "______________________________________________________________________________________________________________________________________________________\n",
      "dropout_24 (Dropout)                             (None, 5, 3, 3, 256)             0                 conv_lst_m2d_39[0][0]                             \n",
      "______________________________________________________________________________________________________________________________________________________\n",
      "batch_normalization_v1_40 (BatchNormalization)   (None, 5, 3, 3, 256)             1024              dropout_24[0][0]                                  \n",
      "______________________________________________________________________________________________________________________________________________________\n",
      "activation_37 (Activation)                       (None, 5, 3, 3, 256)             0                 batch_normalization_v1_40[0][0]                   \n",
      "______________________________________________________________________________________________________________________________________________________\n",
      "conv_lst_m2d_40 (ConvLSTM2D)                     (None, 5, 3, 3, 256)             4719616           activation_37[0][0]                               \n",
      "______________________________________________________________________________________________________________________________________________________\n",
      "dropout_25 (Dropout)                             (None, 5, 3, 3, 256)             0                 conv_lst_m2d_40[0][0]                             \n",
      "______________________________________________________________________________________________________________________________________________________\n",
      "batch_normalization_v1_41 (BatchNormalization)   (None, 5, 3, 3, 256)             1024              dropout_25[0][0]                                  \n",
      "______________________________________________________________________________________________________________________________________________________\n",
      "activation_38 (Activation)                       (None, 5, 3, 3, 256)             0                 batch_normalization_v1_41[0][0]                   \n",
      "______________________________________________________________________________________________________________________________________________________\n",
      "conv_lst_m2d_41 (ConvLSTM2D)                     (None, 5, 3, 3, 1024)            5246976           activation_38[0][0]                               \n",
      "______________________________________________________________________________________________________________________________________________________\n",
      "add_12 (Add)                                     (None, 5, 3, 3, 1024)            0                 add_11[0][0]                                      \n",
      "                                                                                                    conv_lst_m2d_41[0][0]                             \n",
      "______________________________________________________________________________________________________________________________________________________\n",
      "batch_normalization_v1_42 (BatchNormalization)   (None, 5, 3, 3, 1024)            4096              add_12[0][0]                                      \n",
      "______________________________________________________________________________________________________________________________________________________\n",
      "activation_39 (Activation)                       (None, 5, 3, 3, 1024)            0                 batch_normalization_v1_42[0][0]                   \n",
      "______________________________________________________________________________________________________________________________________________________\n",
      "conv_lst_m2d_42 (ConvLSTM2D)                     (None, 5, 2, 2, 512)             3147776           activation_39[0][0]                               \n",
      "______________________________________________________________________________________________________________________________________________________\n",
      "dropout_26 (Dropout)                             (None, 5, 2, 2, 512)             0                 conv_lst_m2d_42[0][0]                             \n",
      "______________________________________________________________________________________________________________________________________________________\n",
      "batch_normalization_v1_43 (BatchNormalization)   (None, 5, 2, 2, 512)             2048              dropout_26[0][0]                                  \n",
      "______________________________________________________________________________________________________________________________________________________\n",
      "activation_40 (Activation)                       (None, 5, 2, 2, 512)             0                 batch_normalization_v1_43[0][0]                   \n",
      "______________________________________________________________________________________________________________________________________________________\n",
      "conv_lst_m2d_43 (ConvLSTM2D)                     (None, 5, 2, 2, 512)             18876416          activation_40[0][0]                               \n",
      "______________________________________________________________________________________________________________________________________________________\n",
      "dropout_27 (Dropout)                             (None, 5, 2, 2, 512)             0                 conv_lst_m2d_43[0][0]                             \n",
      "______________________________________________________________________________________________________________________________________________________\n",
      "batch_normalization_v1_44 (BatchNormalization)   (None, 5, 2, 2, 512)             2048              dropout_27[0][0]                                  \n",
      "______________________________________________________________________________________________________________________________________________________\n",
      "conv_lst_m2d_45 (ConvLSTM2D)                     (None, 5, 2, 2, 2048)            25174016          add_12[0][0]                                      \n",
      "______________________________________________________________________________________________________________________________________________________\n",
      "activation_41 (Activation)                       (None, 5, 2, 2, 512)             0                 batch_normalization_v1_44[0][0]                   \n",
      "______________________________________________________________________________________________________________________________________________________\n",
      "batch_normalization_v1_45 (BatchNormalization)   (None, 5, 2, 2, 2048)            8192              conv_lst_m2d_45[0][0]                             \n",
      "______________________________________________________________________________________________________________________________________________________\n",
      "conv_lst_m2d_44 (ConvLSTM2D)                     (None, 5, 2, 2, 2048)            20979712          activation_41[0][0]                               \n",
      "______________________________________________________________________________________________________________________________________________________\n",
      "add_13 (Add)                                     (None, 5, 2, 2, 2048)            0                 batch_normalization_v1_45[0][0]                   \n",
      "                                                                                                    conv_lst_m2d_44[0][0]                             \n",
      "______________________________________________________________________________________________________________________________________________________\n",
      "batch_normalization_v1_46 (BatchNormalization)   (None, 5, 2, 2, 2048)            8192              add_13[0][0]                                      \n",
      "______________________________________________________________________________________________________________________________________________________\n",
      "activation_42 (Activation)                       (None, 5, 2, 2, 2048)            0                 batch_normalization_v1_46[0][0]                   \n",
      "______________________________________________________________________________________________________________________________________________________\n",
      "conv_lst_m2d_46 (ConvLSTM2D)                     (None, 5, 2, 2, 512)             5244928           activation_42[0][0]                               \n",
      "______________________________________________________________________________________________________________________________________________________\n",
      "dropout_28 (Dropout)                             (None, 5, 2, 2, 512)             0                 conv_lst_m2d_46[0][0]                             \n",
      "______________________________________________________________________________________________________________________________________________________\n",
      "batch_normalization_v1_47 (BatchNormalization)   (None, 5, 2, 2, 512)             2048              dropout_28[0][0]                                  \n",
      "______________________________________________________________________________________________________________________________________________________\n",
      "activation_43 (Activation)                       (None, 5, 2, 2, 512)             0                 batch_normalization_v1_47[0][0]                   \n",
      "______________________________________________________________________________________________________________________________________________________\n",
      "conv_lst_m2d_47 (ConvLSTM2D)                     (None, 5, 2, 2, 512)             18876416          activation_43[0][0]                               \n",
      "______________________________________________________________________________________________________________________________________________________\n",
      "dropout_29 (Dropout)                             (None, 5, 2, 2, 512)             0                 conv_lst_m2d_47[0][0]                             \n",
      "______________________________________________________________________________________________________________________________________________________\n",
      "batch_normalization_v1_48 (BatchNormalization)   (None, 5, 2, 2, 512)             2048              dropout_29[0][0]                                  \n",
      "______________________________________________________________________________________________________________________________________________________\n",
      "activation_44 (Activation)                       (None, 5, 2, 2, 512)             0                 batch_normalization_v1_48[0][0]                   \n",
      "______________________________________________________________________________________________________________________________________________________\n",
      "conv_lst_m2d_48 (ConvLSTM2D)                     (None, 5, 2, 2, 2048)            20979712          activation_44[0][0]                               \n",
      "______________________________________________________________________________________________________________________________________________________\n",
      "add_14 (Add)                                     (None, 5, 2, 2, 2048)            0                 add_13[0][0]                                      \n",
      "                                                                                                    conv_lst_m2d_48[0][0]                             \n",
      "______________________________________________________________________________________________________________________________________________________\n",
      "batch_normalization_v1_49 (BatchNormalization)   (None, 5, 2, 2, 2048)            8192              add_14[0][0]                                      \n",
      "______________________________________________________________________________________________________________________________________________________\n",
      "activation_45 (Activation)                       (None, 5, 2, 2, 2048)            0                 batch_normalization_v1_49[0][0]                   \n",
      "______________________________________________________________________________________________________________________________________________________\n",
      "conv_lst_m2d_49 (ConvLSTM2D)                     (None, 5, 2, 2, 512)             5244928           activation_45[0][0]                               \n",
      "______________________________________________________________________________________________________________________________________________________\n",
      "dropout_30 (Dropout)                             (None, 5, 2, 2, 512)             0                 conv_lst_m2d_49[0][0]                             \n",
      "______________________________________________________________________________________________________________________________________________________\n",
      "batch_normalization_v1_50 (BatchNormalization)   (None, 5, 2, 2, 512)             2048              dropout_30[0][0]                                  \n",
      "______________________________________________________________________________________________________________________________________________________\n",
      "activation_46 (Activation)                       (None, 5, 2, 2, 512)             0                 batch_normalization_v1_50[0][0]                   \n",
      "______________________________________________________________________________________________________________________________________________________\n",
      "conv_lst_m2d_50 (ConvLSTM2D)                     (None, 5, 2, 2, 512)             18876416          activation_46[0][0]                               \n",
      "______________________________________________________________________________________________________________________________________________________\n",
      "dropout_31 (Dropout)                             (None, 5, 2, 2, 512)             0                 conv_lst_m2d_50[0][0]                             \n",
      "______________________________________________________________________________________________________________________________________________________\n",
      "batch_normalization_v1_51 (BatchNormalization)   (None, 5, 2, 2, 512)             2048              dropout_31[0][0]                                  \n",
      "______________________________________________________________________________________________________________________________________________________\n",
      "activation_47 (Activation)                       (None, 5, 2, 2, 512)             0                 batch_normalization_v1_51[0][0]                   \n",
      "______________________________________________________________________________________________________________________________________________________\n",
      "conv_lst_m2d_51 (ConvLSTM2D)                     (None, 5, 2, 2, 2048)            20979712          activation_47[0][0]                               \n",
      "______________________________________________________________________________________________________________________________________________________\n",
      "add_15 (Add)                                     (None, 5, 2, 2, 2048)            0                 add_14[0][0]                                      \n",
      "                                                                                                    conv_lst_m2d_51[0][0]                             \n",
      "______________________________________________________________________________________________________________________________________________________\n",
      "batch_normalization_v1_52 (BatchNormalization)   (None, 5, 2, 2, 2048)            8192              add_15[0][0]                                      \n",
      "______________________________________________________________________________________________________________________________________________________\n",
      "global_average_pooling3d (GlobalAveragePooling3D (None, 2048)                     0                 batch_normalization_v1_52[0][0]                   \n",
      "______________________________________________________________________________________________________________________________________________________\n",
      "dropout_32 (Dropout)                             (None, 2048)                     0                 global_average_pooling3d[0][0]                    \n",
      "______________________________________________________________________________________________________________________________________________________\n",
      "dense (Dense)                                    (None, 2)                        4098              dropout_32[0][0]                                  \n",
      "======================================================================================================================================================\n",
      "WARNING:tensorflow:Discrepancy between trainable weights and collected trainable weights, did you set `model.trainable` without calling `model.compile` after ?\n",
      "Total params: 496,267,908\n",
      "Trainable params: 248,107,394\n",
      "Non-trainable params: 248,160,514\n",
      "______________________________________________________________________________________________________________________________________________________\n"
     ]
    }
   ],
   "source": [
    "# define the model\n",
    "model = load_model('/media/data1/binh/DeepfakeCampaign/pretrained_checkpoints/clrnet/CLR_ALL_Ebest.hdf5')\n",
    "is_training = False\n",
    "top_k_layers=120\n",
    "model,df=FreezeBatchNormalization(is_training,top_k_layers,model)\n",
    "print_summary(model, line_length=150, positions=None, print_fn=None)\n",
    "adam_fine = Adam(lr=0.00005, beta_1=0.9, beta_2=0.999, epsilon=None, decay=0.0, amsgrad=False)\n",
    "model.compile(loss='binary_crossentropy',\n",
    "                  optimizer=adam_fine,\n",
    "                  metrics=['accuracy'])"
   ]
  },
  {
   "cell_type": "markdown",
   "id": "b7e096f7-179c-4394-bb37-42391e1b914c",
   "metadata": {},
   "source": [
    "### generated dataset test"
   ]
  },
  {
   "cell_type": "code",
   "execution_count": 34,
   "id": "862954f5-ff32-48b7-9202-21cff83d428d",
   "metadata": {},
   "outputs": [
    {
     "name": "stdout",
     "output_type": "stream",
     "text": [
      "TEST UPON SETTING\n",
      "Total Video Folders Found (Real + Fake): 81\n"
     ]
    },
    {
     "name": "stderr",
     "output_type": "stream",
     "text": [
      "81it [00:00, 254.11it/s]\n"
     ]
    },
    {
     "name": "stdout",
     "output_type": "stream",
     "text": [
      "Real Frames: 530 Fake Frames: 280\n",
      "Class Weights: [1.44642857 0.76415094]\n"
     ]
    },
    {
     "name": "stderr",
     "output_type": "stream",
     "text": [
      " 94%|████████████████████████████████████████████████████████████████████████████████████████████████████████████████████████████████████████████████████████████▏         | 16/17 [00:36<00:02,  2.20s/it]"
     ]
    },
    {
     "name": "stdout",
     "output_type": "stream",
     "text": [
      "*,"
     ]
    },
    {
     "name": "stderr",
     "output_type": "stream",
     "text": [
      "100%|██████████████████████████████████████████████████████████████████████████████████████████████████████████████████████████████████████████████████████████████████████| 17/17 [00:38<00:00,  2.28s/it]\n"
     ]
    },
    {
     "name": "stdout",
     "output_type": "stream",
     "text": [
      "At threshold = 0.5\n",
      "HTER: 27.95\n",
      "FAR: 35.00\n",
      "TPR: 79.09\n",
      "Max values 170 0.9986524 0.00064414466 1 0\n",
      "At best threshold = 0.2975\n",
      "HTER: 27.27\n",
      "FAR: 40.00\n",
      "TPR: 85.45\n",
      "AUC: 81.68\n",
      "Total Video Folders Found (Real + Fake): 81\n"
     ]
    },
    {
     "name": "stderr",
     "output_type": "stream",
     "text": [
      "81it [00:00, 109.63it/s]\n"
     ]
    },
    {
     "name": "stdout",
     "output_type": "stream",
     "text": [
      "Real Frames: 530 Fake Frames: 280\n",
      "Class Weights: [1.44642857 0.76415094]\n"
     ]
    },
    {
     "name": "stderr",
     "output_type": "stream",
     "text": [
      " 94%|████████████████████████████████████████████████████████████████████████████████████████████████████████████████████████████████████████████████████████████▏         | 16/17 [00:34<00:02,  2.54s/it]"
     ]
    },
    {
     "name": "stdout",
     "output_type": "stream",
     "text": [
      "*,"
     ]
    },
    {
     "name": "stderr",
     "output_type": "stream",
     "text": [
      "100%|██████████████████████████████████████████████████████████████████████████████████████████████████████████████████████████████████████████████████████████████████████| 17/17 [00:37<00:00,  2.20s/it]\n"
     ]
    },
    {
     "name": "stdout",
     "output_type": "stream",
     "text": [
      "At threshold = 0.5\n",
      "HTER: 27.95\n",
      "FAR: 35.00\n",
      "TPR: 79.09\n",
      "Max values 170 0.9986524 0.0007064679 1 0\n",
      "At best threshold = 0.1650\n",
      "HTER: 30.91\n",
      "FAR: 50.00\n",
      "TPR: 88.18\n",
      "AUC: 77.65\n",
      "Total Video Folders Found (Real + Fake): 81\n"
     ]
    },
    {
     "name": "stderr",
     "output_type": "stream",
     "text": [
      "81it [00:00, 118.23it/s]\n"
     ]
    },
    {
     "name": "stdout",
     "output_type": "stream",
     "text": [
      "Real Frames: 530 Fake Frames: 280\n",
      "Class Weights: [1.44642857 0.76415094]\n"
     ]
    },
    {
     "name": "stderr",
     "output_type": "stream",
     "text": [
      " 94%|████████████████████████████████████████████████████████████████████████████████████████████████████████████████████████████████████████████████████████████▏         | 16/17 [00:35<00:02,  2.24s/it]"
     ]
    },
    {
     "name": "stdout",
     "output_type": "stream",
     "text": [
      "*,"
     ]
    },
    {
     "name": "stderr",
     "output_type": "stream",
     "text": [
      "100%|██████████████████████████████████████████████████████████████████████████████████████████████████████████████████████████████████████████████████████████████████████| 17/17 [00:38<00:00,  2.24s/it]\n"
     ]
    },
    {
     "name": "stdout",
     "output_type": "stream",
     "text": [
      "At threshold = 0.5\n",
      "HTER: 22.12\n",
      "FAR: 23.33\n",
      "TPR: 79.09\n",
      "Max values 170 0.9986524 0.0005030151 1 0\n",
      "At best threshold = 0.1650\n",
      "HTER: 22.58\n",
      "FAR: 33.33\n",
      "TPR: 88.18\n",
      "AUC: 85.32\n",
      "Total Video Folders Found (Real + Fake): 81\n"
     ]
    },
    {
     "name": "stderr",
     "output_type": "stream",
     "text": [
      "81it [00:00, 135.68it/s]\n"
     ]
    },
    {
     "name": "stdout",
     "output_type": "stream",
     "text": [
      "Real Frames: 530 Fake Frames: 280\n",
      "Class Weights: [1.44642857 0.76415094]\n"
     ]
    },
    {
     "name": "stderr",
     "output_type": "stream",
     "text": [
      " 94%|████████████████████████████████████████████████████████████████████████████████████████████████████████████████████████████████████████████████████████████▏         | 16/17 [00:40<00:02,  2.45s/it]"
     ]
    },
    {
     "name": "stdout",
     "output_type": "stream",
     "text": [
      "*,"
     ]
    },
    {
     "name": "stderr",
     "output_type": "stream",
     "text": [
      "100%|██████████████████████████████████████████████████████████████████████████████████████████████████████████████████████████████████████████████████████████████████████| 17/17 [00:42<00:00,  2.50s/it]\n"
     ]
    },
    {
     "name": "stdout",
     "output_type": "stream",
     "text": [
      "At threshold = 0.5\n",
      "HTER: 46.29\n",
      "FAR: 71.67\n",
      "TPR: 79.09\n",
      "Max values 170 0.9986524 0.00081318914 1 0\n",
      "At best threshold = 0.0008\n",
      "HTER: 50.00\n",
      "FAR: 100.00\n",
      "TPR: 100.00\n",
      "AUC: 61.85\n",
      "Total Video Folders Found (Real + Fake): 81\n"
     ]
    },
    {
     "name": "stderr",
     "output_type": "stream",
     "text": [
      "81it [00:00, 117.20it/s]\n"
     ]
    },
    {
     "name": "stdout",
     "output_type": "stream",
     "text": [
      "Real Frames: 530 Fake Frames: 280\n",
      "Class Weights: [1.44642857 0.76415094]\n"
     ]
    },
    {
     "name": "stderr",
     "output_type": "stream",
     "text": [
      " 94%|████████████████████████████████████████████████████████████████████████████████████████████████████████████████████████████████████████████████████████████▏         | 16/17 [00:40<00:02,  2.54s/it]"
     ]
    },
    {
     "name": "stdout",
     "output_type": "stream",
     "text": [
      "*,"
     ]
    },
    {
     "name": "stderr",
     "output_type": "stream",
     "text": [
      "100%|██████████████████████████████████████████████████████████████████████████████████████████████████████████████████████████████████████████████████████████████████████| 17/17 [00:42<00:00,  2.50s/it]\n"
     ]
    },
    {
     "name": "stdout",
     "output_type": "stream",
     "text": [
      "At threshold = 0.5\n",
      "HTER: 41.29\n",
      "FAR: 61.67\n",
      "TPR: 79.09\n",
      "Max values 170 0.9986524 0.00081318914 1 0\n",
      "At best threshold = 0.4647\n",
      "HTER: 40.38\n",
      "FAR: 61.67\n",
      "TPR: 80.91\n",
      "AUC: 66.59\n",
      "Total Video Folders Found (Real + Fake): 81\n"
     ]
    },
    {
     "name": "stderr",
     "output_type": "stream",
     "text": [
      "81it [00:00, 98.60it/s] \n"
     ]
    },
    {
     "name": "stdout",
     "output_type": "stream",
     "text": [
      "Real Frames: 530 Fake Frames: 280\n",
      "Class Weights: [1.44642857 0.76415094]\n"
     ]
    },
    {
     "name": "stderr",
     "output_type": "stream",
     "text": [
      " 94%|████████████████████████████████████████████████████████████████████████████████████████████████████████████████████████████████████████████████████████████▏         | 16/17 [00:41<00:02,  2.68s/it]"
     ]
    },
    {
     "name": "stdout",
     "output_type": "stream",
     "text": [
      "*,"
     ]
    },
    {
     "name": "stderr",
     "output_type": "stream",
     "text": [
      "100%|██████████████████████████████████████████████████████████████████████████████████████████████████████████████████████████████████████████████████████████████████████| 17/17 [00:43<00:00,  2.57s/it]\n"
     ]
    },
    {
     "name": "stdout",
     "output_type": "stream",
     "text": [
      "At threshold = 0.5\n",
      "HTER: 32.12\n",
      "FAR: 43.33\n",
      "TPR: 79.09\n",
      "Max values 170 0.9986524 0.0007343958 1 0\n",
      "At best threshold = 0.5122\n",
      "HTER: 32.12\n",
      "FAR: 43.33\n",
      "TPR: 79.09\n",
      "AUC: 71.95\n",
      "Total Video Folders Found (Real + Fake): 81\n"
     ]
    },
    {
     "name": "stderr",
     "output_type": "stream",
     "text": [
      "81it [00:00, 99.85it/s]\n"
     ]
    },
    {
     "name": "stdout",
     "output_type": "stream",
     "text": [
      "Real Frames: 530 Fake Frames: 280\n",
      "Class Weights: [1.44642857 0.76415094]\n"
     ]
    },
    {
     "name": "stderr",
     "output_type": "stream",
     "text": [
      " 94%|████████████████████████████████████████████████████████████████████████████████████████████████████████████████████████████████████████████████████████████▏         | 16/17 [00:36<00:02,  2.57s/it]"
     ]
    },
    {
     "name": "stdout",
     "output_type": "stream",
     "text": [
      "*,"
     ]
    },
    {
     "name": "stderr",
     "output_type": "stream",
     "text": [
      "100%|██████████████████████████████████████████████████████████████████████████████████████████████████████████████████████████████████████████████████████████████████████| 17/17 [00:39<00:00,  2.33s/it]"
     ]
    },
    {
     "name": "stdout",
     "output_type": "stream",
     "text": [
      "At threshold = 0.5\n",
      "HTER: 23.79\n",
      "FAR: 26.67\n",
      "TPR: 79.09\n",
      "Max values 170 0.9986524 0.00051796273 1 0\n",
      "At best threshold = 0.1650\n",
      "HTER: 24.24\n",
      "FAR: 36.67\n",
      "TPR: 88.18\n",
      "AUC: 83.67\n"
     ]
    },
    {
     "name": "stderr",
     "output_type": "stream",
     "text": [
      "\n"
     ]
    }
   ],
   "source": [
    "frames_per_video_per_batch=5\n",
    "frames_per_video=10\n",
    "image_size=128\n",
    "test_video_per_batch=10\n",
    "data_augmentation=False\n",
    "training=False\n",
    "\n",
    "\n",
    "print(\"TEST UPON SETTING\")\n",
    "out_results = pd.DataFrame({\n",
    "    \"Dataset\":[], \"Acc\": [], \"Acc_best\": [], \"AUC\": []\n",
    "})\n",
    "for data_name in (\"DeepFaceLab\", \"Dfaker\", \"Faceswap\", \"FOM_Animation\", \"FOM_Faceswap\", \"FSGAN\", \"LightWeight\"):\n",
    "\n",
    "    X_val,y_val,class_weights_val=create_sequence([f'/media/data2/binh/CSIRO/cropped_faces/generated_data/image/{data_name}/',\n",
    "                                               '/media/data2/binh/CSIRO/cropped_faces/generated_data/image/real/'],frames_per_video_per_batch,frames_per_video)\n",
    "\n",
    "    val_it=DFVDSequence(X_val,y_val,test_video_per_batch,frames_per_video_per_batch,image_size,data_augmentation,training)\n",
    " \n",
    "    ACC, ACC_best, AUC = evaluate(pretrained_model=model, data_iter=val_it)\n",
    "    out_results = out_results.append({\"Dataset\":data_name, \n",
    "                                        \"Acc\": np.round(ACC,2), \n",
    "                                        \"Acc_best\": np.round(ACC_best,2), \n",
    "                                        \"AUC\": np.round(AUC,2)}, ignore_index=True)\n",
    "    \n",
    "out_results = out_results.append({\"Dataset\":\"Avg\", \n",
    "                                    \"Acc\": f\"{out_results.Acc.mean():.2f} ({out_results.Acc.std():.2f})\", \n",
    "                                    \"Acc_best\": f\"{out_results.Acc_best.mean():.2f} ({out_results.Acc_best.std():.2f})\", \n",
    "                                    \"AUC\": f\"{out_results.AUC.mean():.2f} ({out_results.AUC.std():.2f})\"}, \n",
    "                                    ignore_index=True)\n",
    "out_results.to_csv(f\"predictions/clrnet.csv\", index=False)\n",
    "\n",
    "\n"
   ]
  },
  {
   "cell_type": "markdown",
   "id": "414ae9fe-b436-4c21-a12f-7a486610fe61",
   "metadata": {},
   "source": [
    "## in the wild dataset test"
   ]
  },
  {
   "cell_type": "code",
   "execution_count": 19,
   "id": "9f335acb-4cbc-41be-bba9-4c9e128c7c21",
   "metadata": {},
   "outputs": [
    {
     "name": "stdout",
     "output_type": "stream",
     "text": [
      "TEST UPON SETTING\n",
      "Including  /media/data2/binh/CSIRO/collected_data_sok_single/fake/\n",
      "Including  /media/data2/binh/CSIRO/collected_data_sok_single/real/\n",
      "Total Video Folders Found (Real + Fake): 1896\n"
     ]
    },
    {
     "name": "stderr",
     "output_type": "stream",
     "text": [
      "1896it [00:09, 196.15it/s]\n"
     ]
    },
    {
     "name": "stdout",
     "output_type": "stream",
     "text": [
      "Real Frames: 5130 Fake Frames: 13830\n",
      "Class Weights: [0.68546638 1.84795322]\n"
     ]
    },
    {
     "name": "stderr",
     "output_type": "stream",
     "text": [
      "100%|██████████████████████████████████████████████████████████████████████████████████████████████████████████████████████████████████████████████████████████████████████████████▌| 379/380 [16:54<00:02,  2.73s/it]"
     ]
    },
    {
     "name": "stdout",
     "output_type": "stream",
     "text": [
      "*,"
     ]
    },
    {
     "name": "stderr",
     "output_type": "stream",
     "text": [
      "100%|███████████████████████████████████████████████████████████████████████████████████████████████████████████████████████████████████████████████████████████████████████████████| 380/380 [16:56<00:00,  2.67s/it]\n"
     ]
    },
    {
     "name": "stdout",
     "output_type": "stream",
     "text": [
      "At threshold = 0.5\n",
      "HTER: 46.07\n",
      "FAR: 36.48\n",
      "TPR: 44.33\n",
      "Max values 3800 0.999493 0.00014698974 1 0\n",
      "At best threshold = 1.9995\n",
      "HTER: 50.00\n",
      "FAR: 0.00\n",
      "TPR: 0.00\n",
      "AUC: 55.25\n"
     ]
    }
   ],
   "source": [
    "frames_per_video_per_batch=5\n",
    "frames_per_video=10\n",
    "image_size=128\n",
    "test_video_per_batch=10\n",
    "data_augmentation=False\n",
    "training=False\n",
    "\n",
    "\n",
    "print(\"TEST UPON SETTING\")\n",
    "out_results = pd.DataFrame({\n",
    "    \"Dataset\":[], \"Acc\": [], \"Acc_best\": [], \"AUC\": []\n",
    "})\n",
    "\n",
    "\n",
    "X_val, y_val, class_weights_val = create_sequence([f'/media/data2/binh/CSIRO/collected_data_sok_single/fake/',\n",
    "                                            '/media/data2/binh/CSIRO/collected_data_sok_single/real/'],\n",
    "                                            frames_per_video_per_batch,\n",
    "                                            frames_per_video)\n",
    "\n",
    "val_it=DFVDSequence(X_val,y_val,test_video_per_batch,frames_per_video_per_batch,image_size,data_augmentation,training)\n",
    "\n",
    "ACC, ACC_best, AUC = evaluate(pretrained_model=model, data_iter=val_it)\n",
    "out_results = out_results.append({\"Dataset\":\"inthewild\", \n",
    "                                    \"Acc\": np.round(ACC,2), \n",
    "                                    \"Acc_best\": np.round(ACC_best,2), \n",
    "                                    \"AUC\": np.round(AUC,2)}, ignore_index=True)\n",
    "\n",
    "out_results.to_csv(f\"predictions/clrnet(in the wild).csv\", index=False)\n"
   ]
  },
  {
   "cell_type": "code",
   "execution_count": null,
   "id": "34fbb273-7e62-4262-8ef0-b207a01c0f29",
   "metadata": {},
   "outputs": [],
   "source": []
  },
  {
   "cell_type": "code",
   "execution_count": null,
   "id": "7f08b90f-3f5d-4db7-8882-4fa64fdc137d",
   "metadata": {},
   "outputs": [],
   "source": []
  }
 ],
 "metadata": {
  "kernelspec": {
   "display_name": "TF1",
   "language": "python",
   "name": "tf1_kernel"
  },
  "language_info": {
   "codemirror_mode": {
    "name": "ipython",
    "version": 3
   },
   "file_extension": ".py",
   "mimetype": "text/x-python",
   "name": "python",
   "nbconvert_exporter": "python",
   "pygments_lexer": "ipython3",
   "version": "3.7.16"
  }
 },
 "nbformat": 4,
 "nbformat_minor": 5
}
